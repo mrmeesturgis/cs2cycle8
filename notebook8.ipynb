{
 "cells": [
  {
   "cell_type": "markdown",
   "id": "d8bba665",
   "metadata": {},
   "source": [
    "<img src=\"https://www.sturgischarterschool.com/wp-content/uploads/2019/06/sturgisheader_logo.png\" alt=\"sturgis\" width=\"250\" align=\"right\"/>\n",
    "\n",
    "## Computer Science 'Database' notebook 8\n",
    "### Sturgis Charter Public School \n",
    "\n"
   ]
  },
  {
   "cell_type": "markdown",
   "id": "681696fb",
   "metadata": {},
   "source": [
    "Student: [your name here]\n",
    "\n",
    "Collaborators: [N/A]\n",
    "\n",
    "Notes to the teacher: [N/A]"
   ]
  },
  {
   "cell_type": "markdown",
   "id": "16bf0839",
   "metadata": {},
   "source": [
    "### Learning Objectives for notebook \n",
    "* Download Docker.\n",
    "* Use docker to pull a mysql image.\n",
    "* Access your image through your notebook."
   ]
  },
  {
   "cell_type": "markdown",
   "id": "3c01bd41",
   "metadata": {},
   "source": [
    "## Narrative\n",
    "\n",
    "The goal of this cycle's notebook is to get your computer up and running with a `mysql` server. We are going to accomplish this with a few different tools, which means we're going to have to go outside of the jupyter notebook and configure some things in the terminal in order to accomplish this. The good news is that you aren't going to have to do much coding--just build a simple database. The bad news is computers are individual, and sometimes something that's easy on your neighbor's computer is an absolute beast to accomplish on your computer. We press on!\n",
    "\n",
    "#### Docker\n",
    "\n",
    "The first thing we need to do is to install `docker` on your system. `docker` is an industrial level tool that allows for virtualization on your system. Think of it as accepting and running little black boxes. [docker](https://www.docker.com/) will allow us to access all kinds of really awesome and powerful tools. Interestingly you can use docker to even access jupyter notebooks! Here's where to start when [installing docker](https://docs.docker.com/get-docker/). \n",
    "\n",
    "#### Pulling a mysql image\n",
    "\n",
    "Next we're going to need to [pull a mysql image](https://hub.docker.com/_/mysql). Once you pull it you're going to need to run it, and you're going to need to expose a port, in order that your jupyter notebook can access it. The short version: `docker pull sql`. Then run the following command `docker run --name student -e MYSQL_ROOT_PASSWORD=root -p 32000:3306 -d mysql`. \n",
    "\n",
    "#### Downloading necessary dependencies\n",
    "\n",
    "Finally you're going to need to install `pandas` and `pymysql` in order to have your jupyter notebook access your freshly minted mysql server. Consider [this reference](https://www.folkstalk.com/2022/09/how-to-connect-mysql-database-in-jupyter-notebook-with-code-examples.html) for how to access this. At the bare minimum you're going to need to run the following commands in your terminal. `pip install pandas` and `pip install pymysql`. Be aware that you might need to do `pip3` or some permutation thereof. An easy way to check is to do the command `pip --version` and see what your computer recognizes."
   ]
  },
  {
   "cell_type": "markdown",
   "id": "8385c93d",
   "metadata": {},
   "source": [
    "### Question 1: Opening and building your first database\n",
    "There are no assert checks. Instead do the following three things:\n",
    "* connect to your mysql server\n",
    "* Create a database and create at least three tables. Each table should have at least 3 values.\n",
    "* Populate each of your tables with at least 5 items each. "
   ]
  },
  {
   "cell_type": "code",
   "execution_count": 1,
   "id": "fb3eb272",
   "metadata": {},
   "outputs": [],
   "source": [
    "import pandas as pd\n",
    "import pymysql\n",
    "import re"
   ]
  },
  {
   "cell_type": "code",
   "execution_count": 2,
   "id": "281cd11b",
   "metadata": {},
   "outputs": [],
   "source": [
    "conn=pymysql.connect(host='localhost',port=int(32000),user='root',passwd='root')"
   ]
  },
  {
   "cell_type": "code",
   "execution_count": 3,
   "id": "877f0e60",
   "metadata": {},
   "outputs": [],
   "source": [
    "cur = conn.cursor()"
   ]
  },
  {
   "cell_type": "code",
   "execution_count": 4,
   "id": "76fe406c",
   "metadata": {},
   "outputs": [
    {
     "name": "stdout",
     "output_type": "stream",
     "text": [
      "'DROP DATABASE IF EXISTS s_practice;\\nCREATE DATABASE s_practice;\\nUSE s_practice;\\n\\nCREATE TABLE phone (\\n    id INT NOT NULL AUTO_INCREMENT,\\n    name VARCHAR(30) NOT NULL,\\n    brand VARCHAR(30),\\n    PRIMARY KEY (id)\\n);\\n\\nCREATE TABLE car (\\n    id INT NOT NULL AUTO_INCREMENT,\\n    name VARCHAR(30) NOT NULL,\\n    brand VARCHAR(30),\\n    PRIMARY KEY (id)\\n);\\n\\nCREATE TABLE shoe (\\n    id INT NOT NULL AUTO_INCREMENT,\\n    name VARCHAR(30) NOT NULL,\\n    brand VARCHAR(30),\\n    PRIMARY KEY (id)\\n);\\n\\n\\n'\n",
      "['DROP DATABASE IF EXISTS s_practice', 'CREATE DATABASE s_practice', 'USE s_practice', 'CREATE TABLE phone (    id INT NOT NULL AUTO_INCREMENT,    name VARCHAR(30) NOT NULL,    brand VARCHAR(30),    PRIMARY KEY (id))', 'CREATE TABLE car (    id INT NOT NULL AUTO_INCREMENT,    name VARCHAR(30) NOT NULL,    brand VARCHAR(30),    PRIMARY KEY (id))', 'CREATE TABLE shoe (    id INT NOT NULL AUTO_INCREMENT,    name VARCHAR(30) NOT NULL,    brand VARCHAR(30),    PRIMARY KEY (id))']\n"
     ]
    }
   ],
   "source": [
    "instructions = open(\"s_build_db.sql\", \"r\")\n",
    "instructions = instructions.read()\n",
    "print(repr(instructions))\n",
    "instructions = re.sub(\"\\n\", \"\", instructions)\n",
    "instructions = re.split(\";\", instructions)\n",
    "final = []\n",
    "for i in instructions:\n",
    "    if i: final.append(i)\n",
    "print(final)"
   ]
  },
  {
   "cell_type": "code",
   "execution_count": 5,
   "id": "f5f97ef7",
   "metadata": {},
   "outputs": [],
   "source": [
    "for instruction in final:\n",
    "    cur.execute(instruction)\n",
    "    conn.commit()"
   ]
  },
  {
   "cell_type": "code",
   "execution_count": 6,
   "id": "f3273552",
   "metadata": {},
   "outputs": [],
   "source": [
    "df=pd.read_sql_query('show tables',conn)"
   ]
  },
  {
   "cell_type": "code",
   "execution_count": 7,
   "id": "0da56a68",
   "metadata": {},
   "outputs": [
    {
     "data": {
      "text/html": [
       "<div>\n",
       "<style scoped>\n",
       "    .dataframe tbody tr th:only-of-type {\n",
       "        vertical-align: middle;\n",
       "    }\n",
       "\n",
       "    .dataframe tbody tr th {\n",
       "        vertical-align: top;\n",
       "    }\n",
       "\n",
       "    .dataframe thead th {\n",
       "        text-align: right;\n",
       "    }\n",
       "</style>\n",
       "<table border=\"1\" class=\"dataframe\">\n",
       "  <thead>\n",
       "    <tr style=\"text-align: right;\">\n",
       "      <th></th>\n",
       "      <th>Tables_in_s_practice</th>\n",
       "    </tr>\n",
       "  </thead>\n",
       "  <tbody>\n",
       "    <tr>\n",
       "      <th>0</th>\n",
       "      <td>car</td>\n",
       "    </tr>\n",
       "    <tr>\n",
       "      <th>1</th>\n",
       "      <td>phone</td>\n",
       "    </tr>\n",
       "    <tr>\n",
       "      <th>2</th>\n",
       "      <td>shoe</td>\n",
       "    </tr>\n",
       "  </tbody>\n",
       "</table>\n",
       "</div>"
      ],
      "text/plain": [
       "  Tables_in_s_practice\n",
       "0                  car\n",
       "1                phone\n",
       "2                 shoe"
      ]
     },
     "execution_count": 7,
     "metadata": {},
     "output_type": "execute_result"
    }
   ],
   "source": [
    "df"
   ]
  },
  {
   "cell_type": "code",
   "execution_count": 27,
   "id": "867f1310",
   "metadata": {},
   "outputs": [],
   "source": [
    "stmt = \"INSERT INTO phone (name, brand) VALUES (%s, %s)\"\n",
    "data = [('sony', 'test'), ('moto', 'flagship')]"
   ]
  },
  {
   "cell_type": "code",
   "execution_count": 28,
   "id": "1f4d0955",
   "metadata": {},
   "outputs": [
    {
     "data": {
      "text/plain": [
       "2"
      ]
     },
     "execution_count": 28,
     "metadata": {},
     "output_type": "execute_result"
    }
   ],
   "source": [
    "cur.executemany(stmt, data)"
   ]
  },
  {
   "cell_type": "code",
   "execution_count": 29,
   "id": "aab5e238",
   "metadata": {},
   "outputs": [],
   "source": [
    "df=pd.read_sql_query('SELECT * FROM phone',conn)"
   ]
  },
  {
   "cell_type": "code",
   "execution_count": 30,
   "id": "6230292d",
   "metadata": {},
   "outputs": [
    {
     "data": {
      "text/html": [
       "<div>\n",
       "<style scoped>\n",
       "    .dataframe tbody tr th:only-of-type {\n",
       "        vertical-align: middle;\n",
       "    }\n",
       "\n",
       "    .dataframe tbody tr th {\n",
       "        vertical-align: top;\n",
       "    }\n",
       "\n",
       "    .dataframe thead th {\n",
       "        text-align: right;\n",
       "    }\n",
       "</style>\n",
       "<table border=\"1\" class=\"dataframe\">\n",
       "  <thead>\n",
       "    <tr style=\"text-align: right;\">\n",
       "      <th></th>\n",
       "      <th>id</th>\n",
       "      <th>name</th>\n",
       "      <th>brand</th>\n",
       "    </tr>\n",
       "  </thead>\n",
       "  <tbody>\n",
       "    <tr>\n",
       "      <th>0</th>\n",
       "      <td>1</td>\n",
       "      <td>sony</td>\n",
       "      <td>test</td>\n",
       "    </tr>\n",
       "    <tr>\n",
       "      <th>1</th>\n",
       "      <td>2</td>\n",
       "      <td>moto</td>\n",
       "      <td>flagship</td>\n",
       "    </tr>\n",
       "  </tbody>\n",
       "</table>\n",
       "</div>"
      ],
      "text/plain": [
       "   id  name     brand\n",
       "0   1  sony      test\n",
       "1   2  moto  flagship"
      ]
     },
     "execution_count": 30,
     "metadata": {},
     "output_type": "execute_result"
    }
   ],
   "source": [
    "df"
   ]
  },
  {
   "cell_type": "code",
   "execution_count": 24,
   "id": "3e388ea0",
   "metadata": {},
   "outputs": [
    {
     "data": {
      "text/plain": [
       "0"
      ]
     },
     "execution_count": 24,
     "metadata": {},
     "output_type": "execute_result"
    }
   ],
   "source": [
    "cur.execute(\"TRUNCATE TABLE phone\")"
   ]
  },
  {
   "cell_type": "markdown",
   "id": "c94b4b76",
   "metadata": {},
   "source": [
    "### Question 2: Looking at the IA\n",
    "Take a look at the [guide](CS_IA_Guide.pdf) for the IA. Note that it discusses a client and a solution. In the space below type up a 1-3 paragraph initial brainstorm on what you might be interested in doing, and whom you might be interested in working for (possibility, yourself). I expect your answers to be specific, but you are not locked into your answers. The more detail the better!"
   ]
  },
  {
   "cell_type": "markdown",
   "id": "ac46aa9a",
   "metadata": {},
   "source": [
    "*Write your answer here*"
   ]
  },
  {
   "cell_type": "markdown",
   "id": "56d2c96e",
   "metadata": {},
   "source": [
    "### Question 3: The Case Study (HL Only)\n",
    "Read up about the [May 2023 Case Study](comp_sci_case_study_may_2023.pdf). You may also access resources from other places. In your own words explain the following terms. Each answer should be 1-3 sentences in length:\n",
    "\n",
    "* K-nearest neighbour (k-NN) algorithm\n",
    "* Accuracy / Recall\n",
    "* Overfitting\n",
    "* Training data\n",
    "* Collaborative filtering\n",
    "* Content-based filtering"
   ]
  },
  {
   "cell_type": "markdown",
   "id": "b20fbf13",
   "metadata": {},
   "source": [
    "*Write your answers here*"
   ]
  },
  {
   "cell_type": "code",
   "execution_count": null,
   "id": "e5c2f03b",
   "metadata": {},
   "outputs": [],
   "source": []
  }
 ],
 "metadata": {
  "kernelspec": {
   "display_name": "Python 3 (ipykernel)",
   "language": "python",
   "name": "python3"
  },
  "language_info": {
   "codemirror_mode": {
    "name": "ipython",
    "version": 3
   },
   "file_extension": ".py",
   "mimetype": "text/x-python",
   "name": "python",
   "nbconvert_exporter": "python",
   "pygments_lexer": "ipython3",
   "version": "3.9.7"
  }
 },
 "nbformat": 4,
 "nbformat_minor": 5
}
