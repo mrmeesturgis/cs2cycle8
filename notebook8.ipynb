{
 "cells": [
  {
   "cell_type": "markdown",
   "id": "d8bba665",
   "metadata": {},
   "source": [
    "<img src=\"https://www.sturgischarterschool.com/wp-content/uploads/2019/06/sturgisheader_logo.png\" alt=\"sturgis\" width=\"250\" align=\"right\"/>\n",
    "\n",
    "## Computer Science 'Database' notebook 8\n",
    "### Sturgis Charter Public School \n",
    "\n"
   ]
  },
  {
   "cell_type": "markdown",
   "id": "681696fb",
   "metadata": {},
   "source": [
    "Student: [your name here]\n",
    "\n",
    "Collaborators: [N/A]\n",
    "\n",
    "Notes to the teacher: [N/A]"
   ]
  },
  {
   "cell_type": "markdown",
   "id": "16bf0839",
   "metadata": {},
   "source": [
    "### Learning Objectives for notebook \n",
    "* Download Docker.\n",
    "* Use docker to pull a mysql image.\n",
    "* Access your image through your notebook."
   ]
  },
  {
   "cell_type": "markdown",
   "id": "3c01bd41",
   "metadata": {},
   "source": [
    "## Narrative\n",
    "\n",
    "The goal of this cycle's notebook is to get your computer up and running with a `mysql` server. We are going to accomplish this with a few different tools, which means we're going to have to go outside of the jupyter notebook and configure some things in the terminal in order to accomplish this. The good news is that you aren't going to have to do much coding--just build a simple database. The bad news is computers are individual, and sometimes something that's easy on your neighbor's computer is an absolute beast to accomplish on your computer. We press on!\n",
    "\n",
    "#### Docker\n",
    "\n",
    "The first thing we need to do is to install `docker` on your system. `docker` is an industrial level tool that allows for virtualization on your system. Think of it as accepting and running little black boxes. [docker](https://www.docker.com/) will allow us to access all kinds of really awesome and powerful tools. Interestingly you can use docker to even access jupyter notebooks! Here's where to start when [installing docker](https://docs.docker.com/get-docker/). \n",
    "\n",
    "#### Pulling a mysql image\n",
    "\n",
    "Next we're going to need to [pull a mysql image](https://hub.docker.com/_/mysql). Once you pull it you're going to need to run it, and you're going to need to expose a port, in order that your jupyter notebook can access it. \n",
    "\n",
    "#### Downloading necessary dependencies\n",
    "\n",
    "Finally you're going to need to install `pandas` and `pymysql` in order to have your jupyter notebook access your freshly minted mysql server. Consider [this reference](https://www.folkstalk.com/2022/09/how-to-connect-mysql-database-in-jupyter-notebook-with-code-examples.html) for how to access this. At the bare minimum you're going to need to run the following commands in your terminal. `pip install pandas` and `pip install pymysql`. Be aware that you might need to do `pip3` or some permutation thereof. An easy way to check is to do the command `pip --version` and see what your computer recognizes."
   ]
  },
  {
   "cell_type": "code",
   "execution_count": 1,
   "id": "fb3eb272",
   "metadata": {},
   "outputs": [],
   "source": [
    "import pandas as pd\n",
    "import pymysql"
   ]
  },
  {
   "cell_type": "code",
   "execution_count": 3,
   "id": "281cd11b",
   "metadata": {},
   "outputs": [],
   "source": [
    "conn=pymysql.connect(host='localhost',port=int(32000),user='root',passwd='root',db='ikatadomain')"
   ]
  },
  {
   "cell_type": "code",
   "execution_count": 5,
   "id": "f5f97ef7",
   "metadata": {},
   "outputs": [],
   "source": [
    "df=pd.read_sql_query(\"SELECT * FROM inflecticon WHERE morpheme = 'ro' \",conn)"
   ]
  },
  {
   "cell_type": "code",
   "execution_count": 6,
   "id": "0da56a68",
   "metadata": {},
   "outputs": [
    {
     "data": {
      "text/html": [
       "<div>\n",
       "<style scoped>\n",
       "    .dataframe tbody tr th:only-of-type {\n",
       "        vertical-align: middle;\n",
       "    }\n",
       "\n",
       "    .dataframe tbody tr th {\n",
       "        vertical-align: top;\n",
       "    }\n",
       "\n",
       "    .dataframe thead th {\n",
       "        text-align: right;\n",
       "    }\n",
       "</style>\n",
       "<table border=\"1\" class=\"dataframe\">\n",
       "  <thead>\n",
       "    <tr style=\"text-align: right;\">\n",
       "      <th></th>\n",
       "      <th>id</th>\n",
       "      <th>morpheme</th>\n",
       "      <th>inflections</th>\n",
       "    </tr>\n",
       "  </thead>\n",
       "  <tbody>\n",
       "    <tr>\n",
       "      <th>0</th>\n",
       "      <td>5925</td>\n",
       "      <td>ro</td>\n",
       "      <td>adaro, akrobat, akroor, akuro, allegro, ambros...</td>\n",
       "    </tr>\n",
       "  </tbody>\n",
       "</table>\n",
       "</div>"
      ],
      "text/plain": [
       "     id morpheme                                        inflections\n",
       "0  5925       ro  adaro, akrobat, akroor, akuro, allegro, ambros..."
      ]
     },
     "execution_count": 6,
     "metadata": {},
     "output_type": "execute_result"
    }
   ],
   "source": [
    "df"
   ]
  },
  {
   "cell_type": "code",
   "execution_count": null,
   "id": "bd0d46dd",
   "metadata": {},
   "outputs": [],
   "source": []
  }
 ],
 "metadata": {
  "kernelspec": {
   "display_name": "Python 3 (ipykernel)",
   "language": "python",
   "name": "python3"
  },
  "language_info": {
   "codemirror_mode": {
    "name": "ipython",
    "version": 3
   },
   "file_extension": ".py",
   "mimetype": "text/x-python",
   "name": "python",
   "nbconvert_exporter": "python",
   "pygments_lexer": "ipython3",
   "version": "3.9.7"
  }
 },
 "nbformat": 4,
 "nbformat_minor": 5
}
